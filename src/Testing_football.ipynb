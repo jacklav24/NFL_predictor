{
 "cells": [
  {
   "cell_type": "code",
   "execution_count": 16,
   "metadata": {},
   "outputs": [],
   "source": [
    "import pandas as pd\n",
    "from basics import get_df\n",
    "import numpy as np\n",
    "\n",
    "answers = []"
   ]
  },
  {
   "cell_type": "markdown",
   "metadata": {},
   "source": [
    "This isn't necessary to run, but good to look over process-wise. It will not break anything if you decide to run it."
   ]
  },
  {
   "cell_type": "code",
   "execution_count": 17,
   "metadata": {},
   "outputs": [],
   "source": [
    "\n",
    "# df = get_df()\n",
    "# df['possession_away'] = df['possession_away'].apply(lambda x: int(x.split(':')[0]) * 60 + int(x.split(':')[1]))\n",
    "# df['possession_home'] = df['possession_home'].apply(lambda x: int(x.split(':')[0]) * 60 + int(x.split(':')[1]))\n",
    "# df['home_team'] = df['home']\n",
    "# columns = ['season', 'away', 'home', 'neutral',\n",
    "#        'score_away', 'score_home', 'first_downs_away', 'first_downs_home',\n",
    "#        'first_downs_from_passing_away', 'first_downs_from_passing_home',\n",
    "#        'first_downs_from_rushing_away', 'first_downs_from_rushing_home',\n",
    "#        'first_downs_from_penalty_away', 'first_downs_from_penalty_home',\n",
    "#        'third_down_comp_away', 'third_down_att_away', 'third_down_comp_home',\n",
    "#        'third_down_att_home', 'fourth_down_comp_away', 'fourth_down_att_away',\n",
    "#        'fourth_down_comp_home', 'fourth_down_att_home', 'plays_away',\n",
    "#        'plays_home', 'drives_away', 'drives_home', 'yards_away', 'yards_home',\n",
    "#        'pass_comp_away', 'pass_att_away', 'pass_yards_away', 'pass_comp_home',\n",
    "#        'pass_att_home', 'pass_yards_home', 'sacks_num_away',\n",
    "#        'sacks_yards_away', 'sacks_num_home', 'sacks_yards_home',\n",
    "#        'rush_att_away', 'rush_yards_away', 'rush_att_home', 'rush_yards_home',\n",
    "#        'pen_num_away', 'pen_yards_away', 'pen_num_home', 'pen_yards_home',\n",
    "#        'redzone_comp_away', 'redzone_att_away', 'redzone_comp_home',\n",
    "#        'redzone_att_home', 'fumbles_away', 'fumbles_home',\n",
    "#        'interceptions_away', 'interceptions_home', 'def_st_td_away',\n",
    "#        'def_st_td_home', 'possession_away', 'possession_home']\n",
    "\n",
    "# col_home_as_a = {}\n",
    "\n",
    "# for col in columns:\n",
    "#     if '_away' in col:\n",
    "#         col_home_as_a[col] = col.replace('_away', '_B')\n",
    "#     elif '_home' in col:\n",
    "#         col_home_as_a[col] = col.replace('_home', '_A')\n",
    "#     elif col == 'home':\n",
    "#         col_home_as_a[col] = 'team_A'\n",
    "#     elif col == 'away':\n",
    "#         col_home_as_a[col] = 'team_B'\n",
    "#     else:\n",
    "#         col_home_as_a[col] = col  # Keep neutral columns unchanged\n",
    "        \n",
    "# col_home_as_b = {}\n",
    "\n",
    "# for col in columns:\n",
    "#     if '_away' in col:\n",
    "#         col_home_as_b[col] = col.replace('_away', '_A')\n",
    "#     elif '_home' in col:\n",
    "#         col_home_as_b[col] = col.replace('_home', '_B')\n",
    "#     elif col == 'home':\n",
    "#         col_home_as_b[col] = 'team_B'\n",
    "#     elif col == 'away':\n",
    "#         col_home_as_b[col] = 'team_A'\n",
    "#     else:\n",
    "#         col_home_as_b[col] = col  # Keep neutral columns unchanged\n",
    "\n",
    "# df_A = df.rename(columns=col_home_as_a)\n",
    "# df_B = df.rename(columns=col_home_as_b)\n",
    "\n",
    "# full = pd.concat([df_A, df_B], ignore_index=True)\n",
    "# full.sort_values(by=['season','week', 'date'], inplace=True)"
   ]
  },
  {
   "cell_type": "markdown",
   "metadata": {},
   "source": [
    "This code in the cell below is NOT necessary to run - one can simply use the consolidated.csv for the X variable in the model. But I've left it to show the process. It won't break anything if run."
   ]
  },
  {
   "cell_type": "code",
   "execution_count": 14,
   "metadata": {},
   "outputs": [],
   "source": [
    "# full = pd.read_csv(\"./data/full_df.csv\")\n",
    "\n",
    "# def consolidate_game_stats(df):\n",
    "#     # Ensure Team A is always the first team alphabetically\n",
    "\n",
    "#     df['third_down_conv_rate_A'] = (df['third_down_comp_A'] / df['third_down_att_A']) * 100\n",
    "#     df['third_down_conv_rate_B'] = (df['third_down_comp_B'] / df['third_down_att_B']) * 100\n",
    "#     df['redzone_conv_rate_A'] = (df['redzone_comp_A'] / df['redzone_att_A']) * 100\n",
    "#     df['redzone_conv_rate_B'] = (df['redzone_comp_B'] / df['redzone_att_B']) * 100\n",
    "#     df['turnovers_A'] = df['interceptions_A'] + df['fumbles_A']\n",
    "#     df['turnovers_B'] = df['interceptions_B'] + df['fumbles_B']\n",
    "#     # Determine the winner (1 if Team A wins, 0 if Team B wins)\n",
    "\n",
    "\n",
    "#     return df\n",
    "\n",
    "# consolidated_data = consolidate_game_stats(full)\n",
    "# consolidated_data = consolidated_data.assign(\n",
    "#     score_diff = consolidated_data['score_A'] - consolidated_data['score_B'],\n",
    "#     yards_diff = consolidated_data['yards_A'] - consolidated_data['yards_B'],\n",
    "#     pass_yards_diff=consolidated_data['pass_yards_A'] - consolidated_data['pass_yards_B'],\n",
    "#     rush_yards_diff = consolidated_data['rush_yards_A'] - consolidated_data['rush_yards_B'],\n",
    "#     turnovers_diff =  - consolidated_data['turnovers_A'] - consolidated_data['turnovers_B'],\n",
    "#     first_downs_diff = consolidated_data['first_downs_A'] - consolidated_data[\"first_downs_B\"],\n",
    "#     third_down_conv_diff = consolidated_data['third_down_conv_rate_A'] - consolidated_data['third_down_conv_rate_B'],\n",
    "#     redzone_conv_rate_diff = consolidated_data['redzone_conv_rate_A'] - consolidated_data['redzone_conv_rate_B'],\n",
    "#     possession_diff = consolidated_data['possession_A']-consolidated_data['possession_B'],\n",
    "#     yards_per_play_A = consolidated_data['yards_A'] / consolidated_data['plays_A'],\n",
    "#     yards_per_play_B = consolidated_data['yards_B'] / consolidated_data['plays_B'],\n",
    "#     def_st_td_diff = consolidated_data['def_st_td_A'] - consolidated_data['def_st_td_B'],\n",
    "#     sack_diff = consolidated_data['sacks_num_A'] - consolidated_data['sacks_num_B'],\n",
    "#     pen_yards_diff = consolidated_data['pen_yards_A'] - consolidated_data['pen_yards_B']\n",
    "    \n",
    "\n",
    "# )\n",
    "# consolidated_data = consolidated_data.assign(interaction_1 = consolidated_data['yards_diff'] * consolidated_data['turnovers_diff'],\n",
    "#     interaction_3 = consolidated_data['rush_yards_diff'] * consolidated_data['pass_yards_diff'],\n",
    "#     turnovers_per_drive_A = consolidated_data['turnovers_A'] / consolidated_data['drives_A'],\n",
    "#     turnovers_per_drive_B = consolidated_data['turnovers_B'] / consolidated_data['drives_B']\n",
    "# )\n",
    "\n",
    "# consolidated_data = consolidated_data.assign(interaction_2 = consolidated_data['third_down_conv_diff']* consolidated_data['interaction_1'],\n",
    "#     yards_per_play_diff = consolidated_data['yards_per_play_A'] - consolidated_data['yards_per_play_B'],\n",
    "#     turnovers_per_drive_diff = consolidated_data['turnovers_per_drive_A'] - consolidated_data['turnovers_per_drive_B'],\n",
    "#     interaction_4 = consolidated_data['interaction_1'] * consolidated_data['interaction_3'],\n",
    "#     )\n",
    "# consolidated_data = consolidated_data.assign(interaction_5 = consolidated_data['pen_yards_A']* consolidated_data['interaction_1'])\n",
    "# consolidated_data.drop('Unnamed: 0', axis=1, inplace=True)\n",
    "\n",
    "# consolidated_data.to_csv('./data/consolidated.csv')\n",
    "# print(consolidated_data.columns)\n"
   ]
  },
  {
   "cell_type": "markdown",
   "metadata": {},
   "source": [
    "Model set up"
   ]
  },
  {
   "cell_type": "code",
   "execution_count": null,
   "metadata": {},
   "outputs": [],
   "source": [
    "from sklearn.model_selection import train_test_split\n",
    "from sklearn.metrics import accuracy_score\n",
    "\n",
    "consolidated_data = pd.read_csv('./data/consolidated.csv')\n",
    "top_features = [ 'third_down_conv_diff', 'pen_yards_B', 'rush_yards_A',\n",
    "    'possession_A', 'yards_diff', 'rush_yards_diff',\n",
    "    'rush_yards_B', 'pen_yards_A',\n",
    "    'possession_B', 'redzone_conv_rate_diff', 'pass_att_B',  \n",
    "    \n",
    "    'first_downs_diff', 'yards_per_play_diff', 'turnovers_per_drive_diff', 'def_st_td_diff', 'sack_diff', 'pass_yards_diff', 'pen_yards_diff',\n",
    "]\n",
    "to_remove = ['yards_A', 'possession_diff', 'pass_yards_diff', 'yards_diff', 'interaction_4', 'interaction_2', 'interaction_1', 'interaction_5', 'plays_B', 'interaction_3', 'turnovers_diff']\n",
    "# Features and target\n",
    "X = consolidated_data[top_features]\n",
    "team_to_check = consolidated_data['team_A']\n",
    "\n",
    "y = (consolidated_data['winner'] == team_to_check).astype(int)\n",
    "\n",
    "# Split into training and testing sets\n",
    "X_train, X_test, y_train, y_test = train_test_split(X, y, test_size=0.2, random_state=42)"
   ]
  },
  {
   "cell_type": "markdown",
   "metadata": {},
   "source": [
    "Random Forest Model"
   ]
  },
  {
   "cell_type": "code",
   "execution_count": 15,
   "metadata": {},
   "outputs": [
    {
     "name": "stdout",
     "output_type": "stream",
     "text": [
      "   third_down_conv_diff  pen_yards_B  rush_yards_A  possession_A  yards_diff  \\\n",
      "0             22.916667           29            43          1948          82   \n",
      "\n",
      "   rush_yards_diff  rush_yards_B  pen_yards_A  possession_B  \\\n",
      "0              -70           113           80          1652   \n",
      "\n",
      "   redzone_conv_rate_diff  pass_att_B  first_downs_diff  yards_per_play_diff  \\\n",
      "0                     0.0          26                 8            -0.313445   \n",
      "\n",
      "   turnovers_per_drive_diff  def_st_td_diff  sack_diff  pass_yards_diff  \\\n",
      "0                  0.123077               0          3              152   \n",
      "\n",
      "   pen_yards_diff  \n",
      "0              51  \n",
      "Accuracy: 0.8861720067453626\n"
     ]
    }
   ],
   "source": [
    "from sklearn.ensemble import RandomForestClassifier\n",
    "\n",
    "\n",
    "# Train a Random Forest model\n",
    "model = RandomForestClassifier(n_estimators=100, random_state=42)\n",
    "model.fit(X_train, y_train)\n",
    "\n",
    "# Evaluate the model\n",
    "y_pred = model.predict(X_test)\n",
    "score = accuracy_score(y_test, y_pred)\n",
    "answers.append(f'Accuracy for sklearn: {score}')\n",
    "print(\"Accuracy:\", score)\n"
   ]
  },
  {
   "cell_type": "markdown",
   "metadata": {},
   "source": [
    "This next cell gives the feature importance based off the RandomForest Classifier."
   ]
  },
  {
   "cell_type": "code",
   "execution_count": 9,
   "metadata": {},
   "outputs": [
    {
     "data": {
      "text/html": [
       "<div>\n",
       "<style scoped>\n",
       "    .dataframe tbody tr th:only-of-type {\n",
       "        vertical-align: middle;\n",
       "    }\n",
       "\n",
       "    .dataframe tbody tr th {\n",
       "        vertical-align: top;\n",
       "    }\n",
       "\n",
       "    .dataframe thead th {\n",
       "        text-align: right;\n",
       "    }\n",
       "</style>\n",
       "<table border=\"1\" class=\"dataframe\">\n",
       "  <thead>\n",
       "    <tr style=\"text-align: right;\">\n",
       "      <th></th>\n",
       "      <th>Feature</th>\n",
       "      <th>Importance</th>\n",
       "    </tr>\n",
       "  </thead>\n",
       "  <tbody>\n",
       "    <tr>\n",
       "      <th>13</th>\n",
       "      <td>turnovers_per_drive_diff</td>\n",
       "      <td>0.211823</td>\n",
       "    </tr>\n",
       "    <tr>\n",
       "      <th>5</th>\n",
       "      <td>rush_yards_diff</td>\n",
       "      <td>0.089698</td>\n",
       "    </tr>\n",
       "    <tr>\n",
       "      <th>12</th>\n",
       "      <td>yards_per_play_diff</td>\n",
       "      <td>0.087288</td>\n",
       "    </tr>\n",
       "    <tr>\n",
       "      <th>0</th>\n",
       "      <td>third_down_conv_diff</td>\n",
       "      <td>0.079010</td>\n",
       "    </tr>\n",
       "    <tr>\n",
       "      <th>4</th>\n",
       "      <td>yards_diff</td>\n",
       "      <td>0.062746</td>\n",
       "    </tr>\n",
       "    <tr>\n",
       "      <th>15</th>\n",
       "      <td>sack_diff</td>\n",
       "      <td>0.060906</td>\n",
       "    </tr>\n",
       "    <tr>\n",
       "      <th>8</th>\n",
       "      <td>possession_B</td>\n",
       "      <td>0.054025</td>\n",
       "    </tr>\n",
       "    <tr>\n",
       "      <th>10</th>\n",
       "      <td>pass_att_B</td>\n",
       "      <td>0.053607</td>\n",
       "    </tr>\n",
       "    <tr>\n",
       "      <th>3</th>\n",
       "      <td>possession_A</td>\n",
       "      <td>0.041415</td>\n",
       "    </tr>\n",
       "    <tr>\n",
       "      <th>17</th>\n",
       "      <td>pen_yards_diff</td>\n",
       "      <td>0.035509</td>\n",
       "    </tr>\n",
       "    <tr>\n",
       "      <th>2</th>\n",
       "      <td>rush_yards_A</td>\n",
       "      <td>0.031825</td>\n",
       "    </tr>\n",
       "    <tr>\n",
       "      <th>6</th>\n",
       "      <td>rush_yards_B</td>\n",
       "      <td>0.030743</td>\n",
       "    </tr>\n",
       "    <tr>\n",
       "      <th>14</th>\n",
       "      <td>def_st_td_diff</td>\n",
       "      <td>0.029777</td>\n",
       "    </tr>\n",
       "    <tr>\n",
       "      <th>9</th>\n",
       "      <td>redzone_conv_rate_diff</td>\n",
       "      <td>0.028512</td>\n",
       "    </tr>\n",
       "    <tr>\n",
       "      <th>11</th>\n",
       "      <td>first_downs_diff</td>\n",
       "      <td>0.027937</td>\n",
       "    </tr>\n",
       "    <tr>\n",
       "      <th>7</th>\n",
       "      <td>pen_yards_A</td>\n",
       "      <td>0.025715</td>\n",
       "    </tr>\n",
       "    <tr>\n",
       "      <th>1</th>\n",
       "      <td>pen_yards_B</td>\n",
       "      <td>0.025621</td>\n",
       "    </tr>\n",
       "    <tr>\n",
       "      <th>16</th>\n",
       "      <td>pass_yards_diff</td>\n",
       "      <td>0.023842</td>\n",
       "    </tr>\n",
       "  </tbody>\n",
       "</table>\n",
       "</div>"
      ],
      "text/plain": [
       "                     Feature  Importance\n",
       "13  turnovers_per_drive_diff    0.211823\n",
       "5            rush_yards_diff    0.089698\n",
       "12       yards_per_play_diff    0.087288\n",
       "0       third_down_conv_diff    0.079010\n",
       "4                 yards_diff    0.062746\n",
       "15                 sack_diff    0.060906\n",
       "8               possession_B    0.054025\n",
       "10                pass_att_B    0.053607\n",
       "3               possession_A    0.041415\n",
       "17            pen_yards_diff    0.035509\n",
       "2               rush_yards_A    0.031825\n",
       "6               rush_yards_B    0.030743\n",
       "14            def_st_td_diff    0.029777\n",
       "9     redzone_conv_rate_diff    0.028512\n",
       "11          first_downs_diff    0.027937\n",
       "7                pen_yards_A    0.025715\n",
       "1                pen_yards_B    0.025621\n",
       "16           pass_yards_diff    0.023842"
      ]
     },
     "metadata": {},
     "output_type": "display_data"
    }
   ],
   "source": [
    "importances = model.feature_importances_\n",
    "feature_importance_df = pd.DataFrame({'Feature': X.columns, 'Importance': importances})\n",
    "feature_importance_df = feature_importance_df.sort_values(by='Importance', ascending=False)\n",
    "display(feature_importance_df)"
   ]
  },
  {
   "cell_type": "markdown",
   "metadata": {},
   "source": [
    "xgb model"
   ]
  },
  {
   "cell_type": "code",
   "execution_count": 24,
   "metadata": {},
   "outputs": [
    {
     "name": "stdout",
     "output_type": "stream",
     "text": [
      "XGBoost Accuracy: 0.8946037099494097\n",
      "[[1073  130]\n",
      " [ 120 1049]]\n"
     ]
    }
   ],
   "source": [
    "import xgboost as xgb\n",
    "from sklearn.preprocessing import LabelEncoder\n",
    "from sklearn.metrics import confusion_matrix\n",
    "\n",
    "\n",
    "# Convert DataFrame to DMatrix\n",
    "dtrain = xgb.DMatrix(X_train, label=y_train)\n",
    "dtest = xgb.DMatrix(X_test, label=y_test)\n",
    "\n",
    "params = {\n",
    "    'objective': 'binary:logistic',  # Binary classification\n",
    "    'eval_metric': 'logloss',        # Logarithmic loss for evaluation\n",
    "    'max_depth': 6,                  # Maximum depth of a tree\n",
    "    'eta': 0.1,                      # Learning rate\n",
    "    'subsample': 0.8,                # Subsample ratio of the training instances\n",
    "    'colsample_bytree': 0.8,         # Subsample ratio of columns\n",
    "    'seed': 42                       # Random seed for reproducibility\n",
    "}\n",
    "\n",
    "# Train the model\n",
    "num_rounds = 100  # Number of boosting rounds\n",
    "model_xgb = xgb.train(params, dtrain, num_rounds)\n",
    "\n",
    "# Make predictions\n",
    "y_pred_proba = model_xgb.predict(dtest)  # Predicted probabilities\n",
    "y_pred = (y_pred_proba > 0.5).astype(int)  # Convert probabilities to binary predictions\n",
    "\n",
    "# Evaluate the model\n",
    "score = accuracy_score(y_test, y_pred)\n",
    "answers.append(f\"xgb: {score}\")\n",
    "print(\"XGBoost Accuracy:\", accuracy_score(y_test, y_pred))\n",
    "conf_matrix = confusion_matrix(y_test, y_pred)\n",
    "print(conf_matrix)\n",
    "\n"
   ]
  },
  {
   "cell_type": "markdown",
   "metadata": {},
   "source": [
    "lgb model"
   ]
  },
  {
   "cell_type": "code",
   "execution_count": 19,
   "metadata": {},
   "outputs": [
    {
     "name": "stdout",
     "output_type": "stream",
     "text": [
      "[LightGBM] [Info] Number of positive: 4760, number of negative: 4726\n",
      "[LightGBM] [Info] Auto-choosing col-wise multi-threading, the overhead of testing was 0.000673 seconds.\n",
      "You can set `force_col_wise=true` to remove the overhead.\n",
      "[LightGBM] [Info] Total Bins 3306\n",
      "[LightGBM] [Info] Number of data points in the train set: 9486, number of used features: 18\n",
      "[LightGBM] [Info] [binary:BoostFromScore]: pavg=0.501792 -> initscore=0.007168\n",
      "[LightGBM] [Info] Start training from score 0.007168\n",
      "LightGBM Accuracy: 0.8954468802698144\n"
     ]
    }
   ],
   "source": [
    "import lightgbm as lgb\n",
    "train_data = lgb.Dataset(X_train, label=y_train)\n",
    "test_data = lgb.Dataset(X_test, label=y_test, reference=train_data)\n",
    "\n",
    "# Define parameters\n",
    "params = {\n",
    "    'objective': 'binary',           # Binary classification\n",
    "    'metric': 'binary_logloss',      # Logarithmic loss for evaluation\n",
    "    'boosting_type': 'gbdt',         # Gradient Boosting Decision Tree\n",
    "    'num_leaves': 31,                # Maximum number of leaves in one tree\n",
    "    'learning_rate': 0.1,            # Learning rate\n",
    "    'feature_fraction': 0.8,         # Subsample ratio of features\n",
    "    'bagging_fraction': 0.8,         # Subsample ratio of data\n",
    "    'bagging_freq': 5,               # Frequency for bagging\n",
    "    'seed': 42                       # Random seed for reproducibility\n",
    "}\n",
    "\n",
    "# Train the model\n",
    "num_rounds = 100  # Number of boosting rounds\n",
    "model_lgb = lgb.train(params, train_data, num_rounds, valid_sets=[test_data])\n",
    "\n",
    "# Make predictions\n",
    "y_pred_proba = model_lgb.predict(X_test)  # Predicted probabilities\n",
    "y_pred = (y_pred_proba > 0.5).astype(int)  # Convert probabilities to binary predictions\n",
    "\n",
    "# Evaluate the model\n",
    "score = accuracy_score(y_test, y_pred)\n",
    "answers.append(f'lgb: {score}')\n",
    "print(\"LightGBM Accuracy:\", score)\n",
    "\n",
    "\n"
   ]
  },
  {
   "cell_type": "markdown",
   "metadata": {},
   "source": [
    "lgb feature importance"
   ]
  },
  {
   "cell_type": "code",
   "execution_count": 20,
   "metadata": {},
   "outputs": [
    {
     "data": {
      "text/plain": [
       "<Axes: title={'center': 'Feature importance'}, xlabel='Feature importance', ylabel='Features'>"
      ]
     },
     "execution_count": 20,
     "metadata": {},
     "output_type": "execute_result"
    },
    {
     "data": {
      "image/png": "[encoded data removed]",
      "text/plain": [
       "<Figure size 640x480 with 1 Axes>"
      ]
     },
     "metadata": {},
     "output_type": "display_data"
    }
   ],
   "source": [
    "lgb.plot_importance(model_lgb)"
   ]
  },
  {
   "cell_type": "markdown",
   "metadata": {},
   "source": [
    "XGb again, logistic."
   ]
  },
  {
   "cell_type": "code",
   "execution_count": 23,
   "metadata": {},
   "outputs": [
    {
     "name": "stdout",
     "output_type": "stream",
     "text": [
      "Accuracy with Top Features: 0.8882799325463744\n"
     ]
    }
   ],
   "source": [
    "# Use only the top features\n",
    "X_train_top = X_train[top_features]\n",
    "X_test_top = X_test[top_features]\n",
    "\n",
    "# Retrain the model\n",
    "model_xgb = xgb.XGBClassifier(objective='binary:logistic', seed=42)\n",
    "model_xgb.fit(X_train_top, y_train)\n",
    "\n",
    "# Evaluate the model\n",
    "y_pred = model_xgb.predict(X_test_top)\n",
    "score = accuracy_score(y_test, y_pred)\n",
    "answers.append(f'xgb top features: {score}')\n",
    "print(\"Accuracy with Top Features:\", score)\n"
   ]
  },
  {
   "cell_type": "markdown",
   "metadata": {},
   "source": [
    "Confusion matrix for xgb model"
   ]
  },
  {
   "cell_type": "code",
   "execution_count": null,
   "metadata": {},
   "outputs": [
    {
     "name": "stdout",
     "output_type": "stream",
     "text": [
      "Confusion Matrix:\n",
      "[[1065  138]\n",
      " [ 127 1042]]\n"
     ]
    },
    {
     "data": {
      "image/png": "[encoded data removed]",
      "text/plain": [
       "<Figure size 600x400 with 2 Axes>"
      ]
     },
     "metadata": {},
     "output_type": "display_data"
    }
   ],
   "source": [
    "from sklearn.metrics import confusion_matrix\n",
    "import seaborn as sns\n",
    "import matplotlib.pyplot as plt\n",
    "from collections import Counter\n",
    "# Make predictions\n",
    "y_pred = model_xgb.predict(X_test)\n",
    "incorrect_mask = y_test != y_pred\n",
    "\n",
    "results_df = X_test.copy()  \n",
    "results_df['Actual'] = y_test.reset_index(drop=True) \n",
    "results_df['Predicted'] = y_pred  \n",
    "\n",
    "\n",
    "incorrect_df = results_df[incorrect_mask]\n",
    "\n",
    "cm = confusion_matrix(y_test, y_pred)\n",
    "\n",
    "# Print the confusion matrix\n",
    "print(\"Confusion Matrix:\")\n",
    "print(cm)\n",
    "\n",
    "\n",
    "# Visualize the confusion matrix as a heatmap\n",
    "plt.figure(figsize=(6, 4))\n",
    "sns.heatmap(cm, annot=True, fmt='d', cmap='Blues', \n",
    "            xticklabels=['Predicted Loss', 'Predicted Win'], \n",
    "            yticklabels=['Actual Loss', 'Actual Win'])\n",
    "plt.xlabel('Predicted')\n",
    "plt.ylabel('Actual')\n",
    "plt.title('Confusion Matrix')\n",
    "plt.show()"
   ]
  },
  {
   "cell_type": "markdown",
   "metadata": {},
   "source": [
    "Incorrect games"
   ]
  },
  {
   "cell_type": "code",
   "execution_count": 26,
   "metadata": {},
   "outputs": [
    {
     "name": "stdout",
     "output_type": "stream",
     "text": [
      "       third_down_conv_diff  pen_yards_B  rush_yards_A  possession_A  \\\n",
      "10834             -7.692308           19            65          1765   \n",
      "8830             -12.121212           88           100          1822   \n",
      "9603              -5.357143           24           141          1607   \n",
      "518              -38.095238           92            67          1483   \n",
      "9964               7.692308           20            58          1602   \n",
      "...                     ...          ...           ...           ...   \n",
      "7655              -7.619048           50           108          1748   \n",
      "6903              -8.333333           83            80          1946   \n",
      "11671            -16.666667           46           108          1671   \n",
      "2714             -25.358852           21            91          1428   \n",
      "9709              -6.493506           50           110          1552   \n",
      "\n",
      "       yards_diff  rush_yards_diff  rush_yards_B  pen_yards_A  possession_B  \\\n",
      "10834         -55             -116           181           30          1835   \n",
      "8830         -154              -48           148           70          1778   \n",
      "9603          -46               12           129           45          1993   \n",
      "518          -106              -32            99           41          2252   \n",
      "9964          -55              -78           136            5          1998   \n",
      "...           ...              ...           ...          ...           ...   \n",
      "7655            0               15            93           54          1852   \n",
      "6903           70              -11            91           44          1654   \n",
      "11671         -65              -96           204           42          1929   \n",
      "2714         -209               16            75           78          2172   \n",
      "9709         -119              -28           138           42          2048   \n",
      "\n",
      "       redzone_conv_rate_diff  pass_att_B  first_downs_diff  \\\n",
      "10834              -33.333333          29                 2   \n",
      "8830                50.000000          32                -6   \n",
      "9603                25.000000          42                -5   \n",
      "518                  0.000000          45                -8   \n",
      "9964                50.000000          36                -4   \n",
      "...                       ...         ...               ...   \n",
      "7655                      NaN          28                 1   \n",
      "6903               -50.000000          24                 7   \n",
      "11671               66.666667          30                -6   \n",
      "2714                 0.000000          56               -14   \n",
      "9709                 0.000000          34                -7   \n",
      "\n",
      "       yards_per_play_diff  turnovers_per_drive_diff  def_st_td_diff  \\\n",
      "10834            -0.859375                 -0.181818               0   \n",
      "8830             -2.083475                 -0.100000               0   \n",
      "9603              1.206667                  0.000000               0   \n",
      "518              -0.101045                 -0.147368               0   \n",
      "9964             -0.259171                  0.000000               0   \n",
      "...                    ...                       ...             ...   \n",
      "7655             -0.062500                  0.000000               0   \n",
      "6903              0.530397                  0.000000               0   \n",
      "11671            -0.181021                 -0.090909               0   \n",
      "2714             -1.055238                 -0.211538               0   \n",
      "9709             -0.747339                  0.111111               0   \n",
      "\n",
      "       sack_diff  pass_yards_diff  pen_yards_diff  Actual  Predicted  \n",
      "10834          3               61              11     NaN          0  \n",
      "8830          -3             -106             -18     NaN          0  \n",
      "9603          -3              -58              21     NaN          1  \n",
      "518            0              -74             -51     1.0          1  \n",
      "9964          -3               23             -15     NaN          0  \n",
      "...          ...              ...             ...     ...        ...  \n",
      "7655           0              -15               4     NaN          1  \n",
      "6903           7               81             -39     NaN          1  \n",
      "11671          1               31              -4     NaN          1  \n",
      "2714           0             -225              57     NaN          0  \n",
      "9709           1              -91              -8     NaN          0  \n",
      "\n",
      "[265 rows x 20 columns]\n"
     ]
    }
   ],
   "source": [
    "print(incorrect_df)"
   ]
  },
  {
   "cell_type": "markdown",
   "metadata": {},
   "source": [
    "Consolidated results, can be saved to a new line of csv."
   ]
  },
  {
   "cell_type": "code",
   "execution_count": 34,
   "metadata": {},
   "outputs": [
    {
     "name": "stdout",
     "output_type": "stream",
     "text": [
      "[]\n"
     ]
    }
   ],
   "source": [
    "print(answers)\n",
    "answer_df = pd.DataFrame([answers])\n",
    "#answer_df.to_csv('./data/results/answers.csv', mode='a', header=False, index=False)\n",
    "answers = []"
   ]
  },
  {
   "cell_type": "markdown",
   "metadata": {},
   "source": [
    "Chiefs and Eagles super bowl model run."
   ]
  },
  {
   "cell_type": "code",
   "execution_count": 28,
   "metadata": {},
   "outputs": [
    {
     "name": "stdout",
     "output_type": "stream",
     "text": [
      "Predicted Class (Chiefs): 0\n",
      "Predicted Probabilities: [0.7008995 0.2991005]\n",
      "\n",
      "Predicted Class (Eagles): 1\n",
      "Predicted Probabilities: [0.16428757 0.83571243]\n"
     ]
    }
   ],
   "source": [
    "input_row = {\n",
    "    'team_A': 'Chiefs',\n",
    "    'team_B': 'Eagles',\n",
    "    'third_down_conv_diff': 3.3,  # a: 0.45, b: 0.417, diff = 0.033\n",
    "    'pen_yards_B': 46.65,           # b: 46.65\n",
    "    'rush_yards_A': 105.3,          # a: 105.3\n",
    "    'possession_A': 1866,           # a: 1866\n",
    "    'yards_diff': -39.57,           # a: 327.6, b: 367.17, diff = -39.57\n",
    "    'rush_yards_diff': -73.99,      # a: 105.3, b: 179.29, diff = -73.99\n",
    "    'pass_yards_diff': 34.52,       # a: 222.4, b: 187.88, diff = 34.52\n",
    "    'yards_A': 327.6,               # a: 327.6\n",
    "    'rush_yards_B': 179.29,         # b: 179.29\n",
    "    'pen_yards_A': 48.76,           # a: 48.76\n",
    "    'possession_B': 1942,           # b: 1942\n",
    "    'redzone_conv_rate_diff': -3.45,  # a: 0.5395, b: 0.5740, diff = -0.0345\n",
    "    'possession_diff': -76,         # a: 1866, b: 1942, diff = -76\n",
    "    'pass_att_B': 26.35,            # b: 26.35\n",
    "    'plays_A': 64.18,               # a: 64.18\n",
    "    'sacks_yards_A': 14.27,         # a: 14.27\n",
    "    'sacks_yards_B': 18,            # b: 18\n",
    "    'plays_B': 65.53,               # b: 65.53\n",
    "    'first_downs_diff': -0.59,      # kc: 20.59, eag: 21.18, diff = -0.59\n",
    "    'yards_B': 367.17,              # b: 367.17\n",
    "    'yards_per_play_diff': -0.5,    # kc: 5.1, eag: 5.6, diff = -0.5\n",
    "    'turnovers_per_drive_diff': 0.0004,  # chief: 0.0828, eag: 0.0824, diff = 0.0004\n",
    "    'interaction_1': 2.3267,        # int1: 2.3267\n",
    "    'interaction_2': 7.67811,       # int2: 0.07678\n",
    "    'interaction_3': 2554.1348,      # int3: 2554.1348\n",
    "    'interaction_4' : 5942.705439,\n",
    "    'interaction_5': 113.449892,\n",
    "    'turnovers_diff': -0.0588,\n",
    "    'def_st_td_diff': 0,\n",
    "    'sack_diff': 0.5882352942,\n",
    "    'pen_yards_diff': 2.11,\n",
    "}\n",
    "\n",
    "input_row_flipped = {\n",
    "    'team_A': 'Eagles',\n",
    "    'team_B': 'Chiefs',\n",
    "    'third_down_conv_diff': -3.3,  # b: 0.417, a: 0.45, diff = -0.033\n",
    "    'pen_yards_B': 48.76,            # a: 48.76 (now assigned to Team B)\n",
    "    'rush_yards_A': 179.29,          # b: 179.29 (now assigned to Team A)\n",
    "    'possession_A': 1942,            # b: 1942 (now assigned to Team A)\n",
    "    'yards_diff': 39.57,             # b: 367.17, a: 327.6, diff = 39.57\n",
    "    'rush_yards_diff': 73.99,        # b: 179.29, a: 105.3, diff = 73.99\n",
    "    'pass_yards_diff': -34.52,       # b: 187.88, a: 222.4, diff = -34.52\n",
    "    'yards_A': 367.17,               # b: 367.17 (now assigned to Team A)\n",
    "    'rush_yards_B': 105.3,           # a: 105.3 (now assigned to Team B)\n",
    "    'pen_yards_A': 46.65,            # b: 46.65 (now assigned to Team A)\n",
    "    'possession_B': 1866,            # a: 1866 (now assigned to Team B)\n",
    "    'redzone_conv_rate_diff': 3.45,  # b: 0.5740, a: 0.5395, diff = 0.0345\n",
    "    'possession_diff': 76,           # b: 1942, a: 1866, diff = 76\n",
    "    'pass_att_B': 35.29,             # a: 35.29 (now assigned to Team B)\n",
    "    'plays_A': 65.53,                # b: 65.53 (now assigned to Team A)\n",
    "    'sacks_yards_A': 18,             # b: 18 (now assigned to Team A)\n",
    "    'sacks_yards_B': 14.27,          # a: 14.27 (now assigned to Team B)\n",
    "    'plays_B': 64.18,                # a: 64.18 (now assigned to Team B)\n",
    "    'first_downs_diff': 0.59,        # eag: 21.18, kc: 20.59, diff = 0.59\n",
    "    'yards_B': 327.6,                # a: 327.6 (now assigned to Team B)\n",
    "    'yards_per_play_diff': 0.5,      # eag: 5.6, kc: 5.1, diff = 0.5\n",
    "    'turnovers_per_drive_diff': -0.0004,  # eag: 0.0824, chief: 0.0828, diff = -0.0004\n",
    "    'interaction_1': 2.3267,        # int1: 2.3267\n",
    "    'interaction_2': -7.67811,       # int2: 0.07678\n",
    "    'interaction_3': -2554.1348,\n",
    "    'interaction_4': -5942.705439,\n",
    "    'interaction_5': 108.540555,\n",
    "    'turnovers_diff': 0.0588,\n",
    "    'def_st_td_diff': 0,\n",
    "    'sack_diff': 0.5882352942,\n",
    "    'pen_yards_diff': -2.11,\n",
    "}\n",
    "\n",
    "chief = pd.DataFrame([input_row])\n",
    "eagle = pd.DataFrame([input_row_flipped])\n",
    "\n",
    "\n",
    "# Ensure the columns are in the same order as the training data\n",
    "chief = chief[top_features]  # Use the same feature order as X_train_top\n",
    "eagle = eagle[top_features]\n",
    "# Predict the class (0 or 1)\n",
    "\n",
    "predicted_class_ch = model_xgb.predict(chief)\n",
    "predicted_class_eag = model_xgb.predict(eagle)\n",
    "\n",
    "\n",
    "# # Predict the probability of each class\n",
    "predicted_chief = model_xgb.predict_proba(chief)\n",
    "predicted_eag = model_xgb.predict_proba(eagle)\n",
    "res = ['chiefs', predicted_class_ch, predicted_chief, ' eagles',predicted_class_eag, predicted_eag]\n",
    "print(\"Predicted Class (Chiefs):\", predicted_class_ch[0])\n",
    "print(\"Predicted Probabilities:\", predicted_chief[0])\n",
    "print('')\n",
    "print(\"Predicted Class (Eagles):\", predicted_class_eag[0])\n",
    "print(\"Predicted Probabilities:\", predicted_eag[0])\n",
    "\n"
   ]
  },
  {
   "cell_type": "markdown",
   "metadata": {},
   "source": [
    "Results can be saved to csv"
   ]
  },
  {
   "cell_type": "code",
   "execution_count": 32,
   "metadata": {},
   "outputs": [],
   "source": [
    "super_df = pd.DataFrame([res])\n",
    "#super_df.to_csv('./data/results/chiefgle.csv', mode='a', header=False, index=False)\n",
    "answers = []"
   ]
  }
 ],
 "metadata": {
  "kernelspec": {
   "display_name": "Python 3",
   "language": "python",
   "name": "python3"
  },
  "language_info": {
   "codemirror_mode": {
    "name": "ipython",
    "version": 3
   },
   "file_extension": ".py",
   "mimetype": "text/x-python",
   "name": "python",
   "nbconvert_exporter": "python",
   "pygments_lexer": "ipython3",
   "version": "3.12.2"
  }
 },
 "nbformat": 4,
 "nbformat_minor": 2
}
